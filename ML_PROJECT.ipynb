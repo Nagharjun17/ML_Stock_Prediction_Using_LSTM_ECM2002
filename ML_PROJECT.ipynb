{
  "nbformat": 4,
  "nbformat_minor": 0,
  "metadata": {
    "colab": {
      "name": "ML_PROJECT.ipynb",
      "provenance": [],
      "collapsed_sections": []
    },
    "kernelspec": {
      "name": "python3",
      "display_name": "Python 3"
    }
  },
  "cells": [
    {
      "cell_type": "code",
      "metadata": {
        "id": "Xm5ZBPrHkwbC",
        "colab_type": "code",
        "colab": {}
      },
      "source": [
        "import numpy as np\n",
        "import matplotlib.pyplot as plt\n",
        "import pandas as pd\n",
        "from sklearn.preprocessing import MinMaxScaler\n",
        "from keras.models import Sequential\n",
        "from keras.layers import LSTM\n",
        "from keras.layers import Dropout\n",
        "from keras.layers import Dense\n",
        "from sklearn.metrics import explained_variance_score\n",
        "from sklearn.metrics import max_error\n",
        "from sklearn.metrics import mean_absolute_error\n",
        "from sklearn.metrics import mean_squared_error\n",
        "from sklearn.metrics import mean_squared_log_error\n",
        "from sklearn.metrics import median_absolute_error\n",
        "from sklearn.metrics import r2_score\n",
        "from sklearn.metrics import mean_poisson_deviance\n",
        "from sklearn.metrics import mean_gamma_deviance"
      ],
      "execution_count": 1,
      "outputs": []
    },
    {
      "cell_type": "code",
      "metadata": {
        "id": "08IWqiJQk1Wd",
        "colab_type": "code",
        "colab": {
          "base_uri": "https://localhost:8080/",
          "height": 204
        },
        "outputId": "ab9bca95-5034-4a3c-cac5-9b4e731a20c7"
      },
      "source": [
        "url = 'https://raw.githubusercontent.com/Nagharjun17/abc/master/XLNX_train.csv'\n",
        "dataset_train = pd.read_csv(url)\n",
        "training_set = dataset_train.iloc[:, 1:2].values\n",
        "dataset_train.head()"
      ],
      "execution_count": 2,
      "outputs": [
        {
          "output_type": "execute_result",
          "data": {
            "text/html": [
              "<div>\n",
              "<style scoped>\n",
              "    .dataframe tbody tr th:only-of-type {\n",
              "        vertical-align: middle;\n",
              "    }\n",
              "\n",
              "    .dataframe tbody tr th {\n",
              "        vertical-align: top;\n",
              "    }\n",
              "\n",
              "    .dataframe thead th {\n",
              "        text-align: right;\n",
              "    }\n",
              "</style>\n",
              "<table border=\"1\" class=\"dataframe\">\n",
              "  <thead>\n",
              "    <tr style=\"text-align: right;\">\n",
              "      <th></th>\n",
              "      <th>Date</th>\n",
              "      <th>Open</th>\n",
              "      <th>High</th>\n",
              "      <th>Low</th>\n",
              "      <th>Close</th>\n",
              "      <th>Adj Close</th>\n",
              "      <th>Volume</th>\n",
              "    </tr>\n",
              "  </thead>\n",
              "  <tbody>\n",
              "    <tr>\n",
              "      <th>0</th>\n",
              "      <td>28-01-2010</td>\n",
              "      <td>24.469999</td>\n",
              "      <td>24.469999</td>\n",
              "      <td>23.600000</td>\n",
              "      <td>24.01</td>\n",
              "      <td>18.882095</td>\n",
              "      <td>8493700</td>\n",
              "    </tr>\n",
              "    <tr>\n",
              "      <th>1</th>\n",
              "      <td>29-01-2010</td>\n",
              "      <td>23.910000</td>\n",
              "      <td>24.440001</td>\n",
              "      <td>23.459999</td>\n",
              "      <td>23.58</td>\n",
              "      <td>18.543936</td>\n",
              "      <td>12612400</td>\n",
              "    </tr>\n",
              "    <tr>\n",
              "      <th>2</th>\n",
              "      <td>01-02-2010</td>\n",
              "      <td>23.510000</td>\n",
              "      <td>24.110001</td>\n",
              "      <td>23.490000</td>\n",
              "      <td>23.98</td>\n",
              "      <td>18.858500</td>\n",
              "      <td>5645000</td>\n",
              "    </tr>\n",
              "    <tr>\n",
              "      <th>3</th>\n",
              "      <td>02-02-2010</td>\n",
              "      <td>24.090000</td>\n",
              "      <td>24.360001</td>\n",
              "      <td>23.889999</td>\n",
              "      <td>24.27</td>\n",
              "      <td>19.086575</td>\n",
              "      <td>4727900</td>\n",
              "    </tr>\n",
              "    <tr>\n",
              "      <th>4</th>\n",
              "      <td>03-02-2010</td>\n",
              "      <td>24.150000</td>\n",
              "      <td>24.629999</td>\n",
              "      <td>24.020000</td>\n",
              "      <td>24.51</td>\n",
              "      <td>19.275309</td>\n",
              "      <td>6484300</td>\n",
              "    </tr>\n",
              "  </tbody>\n",
              "</table>\n",
              "</div>"
            ],
            "text/plain": [
              "         Date       Open       High        Low  Close  Adj Close    Volume\n",
              "0  28-01-2010  24.469999  24.469999  23.600000  24.01  18.882095   8493700\n",
              "1  29-01-2010  23.910000  24.440001  23.459999  23.58  18.543936  12612400\n",
              "2  01-02-2010  23.510000  24.110001  23.490000  23.98  18.858500   5645000\n",
              "3  02-02-2010  24.090000  24.360001  23.889999  24.27  19.086575   4727900\n",
              "4  03-02-2010  24.150000  24.629999  24.020000  24.51  19.275309   6484300"
            ]
          },
          "metadata": {
            "tags": []
          },
          "execution_count": 2
        }
      ]
    },
    {
      "cell_type": "code",
      "metadata": {
        "id": "BZMKENVClUqL",
        "colab_type": "code",
        "colab": {
          "base_uri": "https://localhost:8080/",
          "height": 136
        },
        "outputId": "901b214f-7d43-4ce1-f8c0-2ac585cc59ac"
      },
      "source": [
        "training_set"
      ],
      "execution_count": 3,
      "outputs": [
        {
          "output_type": "execute_result",
          "data": {
            "text/plain": [
              "array([[24.469999],\n",
              "       [23.91    ],\n",
              "       [23.51    ],\n",
              "       ...,\n",
              "       [68.989998],\n",
              "       [69.089996],\n",
              "       [68.5     ]])"
            ]
          },
          "metadata": {
            "tags": []
          },
          "execution_count": 3
        }
      ]
    },
    {
      "cell_type": "code",
      "metadata": {
        "id": "bkuBVMi3lqAv",
        "colab_type": "code",
        "colab": {}
      },
      "source": [
        "sc = MinMaxScaler(feature_range=(0,1))\n",
        "training_set_scaled = sc.fit_transform(training_set)"
      ],
      "execution_count": 4,
      "outputs": []
    },
    {
      "cell_type": "code",
      "metadata": {
        "id": "QvSzWfqHl3Xu",
        "colab_type": "code",
        "colab": {}
      },
      "source": [
        "X_train = []\n",
        "y_train = []\n",
        "for i in range(60, 2099):\n",
        "  X_train.append(training_set_scaled[i-60:i, 0])\n",
        "  y_train.append(training_set_scaled[i, 0])\n",
        "X_train, y_train = np.array(X_train), np.array(y_train)\n",
        "X_train.shape\n",
        "X_train = np.reshape(X_train, (X_train.shape[0], X_train.shape[1], 1))"
      ],
      "execution_count": 5,
      "outputs": []
    },
    {
      "cell_type": "code",
      "metadata": {
        "id": "a-tXu_C7mZCo",
        "colab_type": "code",
        "colab": {
          "base_uri": "https://localhost:8080/",
          "height": 1000
        },
        "outputId": "df23bbad-959d-4d28-e9fb-5a20a13afbed"
      },
      "source": [
        "model = Sequential()\n",
        "model.add(LSTM(units=50,return_sequences=True,input_shape=(X_train.shape[1], 1)))\n",
        "model.add(Dropout(0.1))\n",
        "model.add(LSTM(units=50,return_sequences=True))\n",
        "model.add(Dropout(0.2))\n",
        "model.add(LSTM(units=50,return_sequences=True))\n",
        "model.add(Dropout(0.1))\n",
        "model.add(LSTM(units=50,return_sequences=True))\n",
        "model.add(Dropout(0.2))\n",
        "model.add(LSTM(units=50))\n",
        "model.add(Dropout(0.1))\n",
        "model.add(Dense(units=1))\n",
        "model.compile(optimizer='adam',loss='mean_squared_error')\n",
        "model.fit(X_train,y_train,epochs=100,batch_size=32)"
      ],
      "execution_count": 9,
      "outputs": [
        {
          "output_type": "stream",
          "text": [
            "Epoch 1/100\n",
            "64/64 [==============================] - 9s 133ms/step - loss: 0.0244\n",
            "Epoch 2/100\n",
            "64/64 [==============================] - 9s 133ms/step - loss: 0.0044\n",
            "Epoch 3/100\n",
            "64/64 [==============================] - 8s 132ms/step - loss: 0.0037\n",
            "Epoch 4/100\n",
            "64/64 [==============================] - 8s 132ms/step - loss: 0.0033\n",
            "Epoch 5/100\n",
            "64/64 [==============================] - 8s 133ms/step - loss: 0.0031\n",
            "Epoch 6/100\n",
            "64/64 [==============================] - 8s 133ms/step - loss: 0.0034\n",
            "Epoch 7/100\n",
            "64/64 [==============================] - 8s 132ms/step - loss: 0.0032\n",
            "Epoch 8/100\n",
            "64/64 [==============================] - 9s 133ms/step - loss: 0.0034\n",
            "Epoch 9/100\n",
            "64/64 [==============================] - 8s 132ms/step - loss: 0.0029\n",
            "Epoch 10/100\n",
            "64/64 [==============================] - 9s 135ms/step - loss: 0.0026\n",
            "Epoch 11/100\n",
            "64/64 [==============================] - 8s 132ms/step - loss: 0.0022\n",
            "Epoch 12/100\n",
            "64/64 [==============================] - 8s 133ms/step - loss: 0.0022\n",
            "Epoch 13/100\n",
            "64/64 [==============================] - 9s 137ms/step - loss: 0.0022\n",
            "Epoch 14/100\n",
            "64/64 [==============================] - 9s 141ms/step - loss: 0.0021\n",
            "Epoch 15/100\n",
            "64/64 [==============================] - 9s 137ms/step - loss: 0.0020\n",
            "Epoch 16/100\n",
            "64/64 [==============================] - 9s 136ms/step - loss: 0.0017\n",
            "Epoch 17/100\n",
            "64/64 [==============================] - 9s 136ms/step - loss: 0.0020\n",
            "Epoch 18/100\n",
            "64/64 [==============================] - 9s 136ms/step - loss: 0.0017\n",
            "Epoch 19/100\n",
            "64/64 [==============================] - 9s 136ms/step - loss: 0.0017\n",
            "Epoch 20/100\n",
            "64/64 [==============================] - 9s 137ms/step - loss: 0.0017\n",
            "Epoch 21/100\n",
            "64/64 [==============================] - 9s 136ms/step - loss: 0.0018\n",
            "Epoch 22/100\n",
            "64/64 [==============================] - 9s 137ms/step - loss: 0.0016\n",
            "Epoch 23/100\n",
            "64/64 [==============================] - 9s 137ms/step - loss: 0.0015\n",
            "Epoch 24/100\n",
            "64/64 [==============================] - 9s 138ms/step - loss: 0.0014\n",
            "Epoch 25/100\n",
            "64/64 [==============================] - 9s 138ms/step - loss: 0.0014\n",
            "Epoch 26/100\n",
            "64/64 [==============================] - 9s 138ms/step - loss: 0.0015\n",
            "Epoch 27/100\n",
            "64/64 [==============================] - 9s 138ms/step - loss: 0.0016\n",
            "Epoch 28/100\n",
            "64/64 [==============================] - 9s 138ms/step - loss: 0.0014\n",
            "Epoch 29/100\n",
            "64/64 [==============================] - 9s 137ms/step - loss: 0.0014\n",
            "Epoch 30/100\n",
            "64/64 [==============================] - 9s 137ms/step - loss: 0.0012\n",
            "Epoch 31/100\n",
            "64/64 [==============================] - 9s 138ms/step - loss: 0.0015\n",
            "Epoch 32/100\n",
            "64/64 [==============================] - 9s 140ms/step - loss: 0.0013\n",
            "Epoch 33/100\n",
            "64/64 [==============================] - 9s 139ms/step - loss: 0.0012\n",
            "Epoch 34/100\n",
            "64/64 [==============================] - 9s 138ms/step - loss: 0.0013\n",
            "Epoch 35/100\n",
            "64/64 [==============================] - 9s 138ms/step - loss: 0.0012\n",
            "Epoch 36/100\n",
            "64/64 [==============================] - 9s 137ms/step - loss: 0.0011\n",
            "Epoch 37/100\n",
            "64/64 [==============================] - 9s 139ms/step - loss: 0.0012\n",
            "Epoch 38/100\n",
            "64/64 [==============================] - 9s 138ms/step - loss: 0.0011\n",
            "Epoch 39/100\n",
            "64/64 [==============================] - 9s 140ms/step - loss: 0.0012\n",
            "Epoch 40/100\n",
            "64/64 [==============================] - 9s 137ms/step - loss: 0.0011\n",
            "Epoch 41/100\n",
            "64/64 [==============================] - 9s 138ms/step - loss: 9.7436e-04\n",
            "Epoch 42/100\n",
            "64/64 [==============================] - 9s 138ms/step - loss: 0.0010\n",
            "Epoch 43/100\n",
            "64/64 [==============================] - 9s 140ms/step - loss: 0.0010\n",
            "Epoch 44/100\n",
            "64/64 [==============================] - 9s 143ms/step - loss: 0.0011\n",
            "Epoch 45/100\n",
            "64/64 [==============================] - 9s 138ms/step - loss: 0.0011\n",
            "Epoch 46/100\n",
            "64/64 [==============================] - 9s 140ms/step - loss: 9.4548e-04\n",
            "Epoch 47/100\n",
            "64/64 [==============================] - 9s 141ms/step - loss: 9.0734e-04\n",
            "Epoch 48/100\n",
            "64/64 [==============================] - 9s 142ms/step - loss: 9.4729e-04\n",
            "Epoch 49/100\n",
            "64/64 [==============================] - 10s 151ms/step - loss: 0.0010\n",
            "Epoch 50/100\n",
            "64/64 [==============================] - 9s 140ms/step - loss: 9.8379e-04\n",
            "Epoch 51/100\n",
            "64/64 [==============================] - 9s 139ms/step - loss: 0.0010\n",
            "Epoch 52/100\n",
            "64/64 [==============================] - 9s 141ms/step - loss: 8.0492e-04\n",
            "Epoch 53/100\n",
            "64/64 [==============================] - 9s 141ms/step - loss: 9.2109e-04\n",
            "Epoch 54/100\n",
            "64/64 [==============================] - 9s 139ms/step - loss: 9.3739e-04\n",
            "Epoch 55/100\n",
            "64/64 [==============================] - 9s 137ms/step - loss: 8.8016e-04\n",
            "Epoch 56/100\n",
            "64/64 [==============================] - 9s 138ms/step - loss: 8.0323e-04\n",
            "Epoch 57/100\n",
            "64/64 [==============================] - 9s 138ms/step - loss: 8.9001e-04\n",
            "Epoch 58/100\n",
            "64/64 [==============================] - 9s 138ms/step - loss: 9.8529e-04\n",
            "Epoch 59/100\n",
            "64/64 [==============================] - 9s 137ms/step - loss: 9.8889e-04\n",
            "Epoch 60/100\n",
            "64/64 [==============================] - 9s 136ms/step - loss: 9.1552e-04\n",
            "Epoch 61/100\n",
            "64/64 [==============================] - 9s 137ms/step - loss: 8.9950e-04\n",
            "Epoch 62/100\n",
            "64/64 [==============================] - 9s 138ms/step - loss: 8.7041e-04\n",
            "Epoch 63/100\n",
            "64/64 [==============================] - 9s 137ms/step - loss: 7.6967e-04\n",
            "Epoch 64/100\n",
            "64/64 [==============================] - 9s 137ms/step - loss: 7.8449e-04\n",
            "Epoch 65/100\n",
            "64/64 [==============================] - 9s 136ms/step - loss: 7.2963e-04\n",
            "Epoch 66/100\n",
            "64/64 [==============================] - 9s 136ms/step - loss: 7.3004e-04\n",
            "Epoch 67/100\n",
            "64/64 [==============================] - 9s 137ms/step - loss: 7.2513e-04\n",
            "Epoch 68/100\n",
            "64/64 [==============================] - 9s 137ms/step - loss: 8.0687e-04\n",
            "Epoch 69/100\n",
            "64/64 [==============================] - 9s 139ms/step - loss: 9.0309e-04\n",
            "Epoch 70/100\n",
            "64/64 [==============================] - 9s 138ms/step - loss: 7.0873e-04\n",
            "Epoch 71/100\n",
            "64/64 [==============================] - 9s 137ms/step - loss: 7.0980e-04\n",
            "Epoch 72/100\n",
            "64/64 [==============================] - 9s 138ms/step - loss: 8.9452e-04\n",
            "Epoch 73/100\n",
            "64/64 [==============================] - 9s 139ms/step - loss: 7.1868e-04\n",
            "Epoch 74/100\n",
            "64/64 [==============================] - 9s 137ms/step - loss: 7.2966e-04\n",
            "Epoch 75/100\n",
            "64/64 [==============================] - 9s 139ms/step - loss: 6.2819e-04\n",
            "Epoch 76/100\n",
            "64/64 [==============================] - 9s 139ms/step - loss: 6.7182e-04\n",
            "Epoch 77/100\n",
            "64/64 [==============================] - 9s 137ms/step - loss: 7.2904e-04\n",
            "Epoch 78/100\n",
            "64/64 [==============================] - 9s 141ms/step - loss: 7.0017e-04\n",
            "Epoch 79/100\n",
            "64/64 [==============================] - 9s 138ms/step - loss: 6.4329e-04\n",
            "Epoch 80/100\n",
            "64/64 [==============================] - 9s 137ms/step - loss: 6.9388e-04\n",
            "Epoch 81/100\n",
            "64/64 [==============================] - 9s 138ms/step - loss: 7.2003e-04\n",
            "Epoch 82/100\n",
            "64/64 [==============================] - 9s 137ms/step - loss: 7.0550e-04\n",
            "Epoch 83/100\n",
            "64/64 [==============================] - 9s 143ms/step - loss: 6.9235e-04\n",
            "Epoch 84/100\n",
            "64/64 [==============================] - 9s 142ms/step - loss: 7.3790e-04\n",
            "Epoch 85/100\n",
            "64/64 [==============================] - 9s 139ms/step - loss: 6.2576e-04\n",
            "Epoch 86/100\n",
            "64/64 [==============================] - 9s 137ms/step - loss: 6.6517e-04\n",
            "Epoch 87/100\n",
            "64/64 [==============================] - 9s 138ms/step - loss: 6.5608e-04\n",
            "Epoch 88/100\n",
            "64/64 [==============================] - 9s 137ms/step - loss: 6.3313e-04\n",
            "Epoch 89/100\n",
            "64/64 [==============================] - 9s 138ms/step - loss: 6.9229e-04\n",
            "Epoch 90/100\n",
            "64/64 [==============================] - 9s 141ms/step - loss: 7.2156e-04\n",
            "Epoch 91/100\n",
            "64/64 [==============================] - 9s 144ms/step - loss: 6.4683e-04\n",
            "Epoch 92/100\n",
            "64/64 [==============================] - 9s 145ms/step - loss: 6.5431e-04\n",
            "Epoch 93/100\n",
            "64/64 [==============================] - 9s 146ms/step - loss: 5.6658e-04\n",
            "Epoch 94/100\n",
            "64/64 [==============================] - 9s 148ms/step - loss: 6.0100e-04\n",
            "Epoch 95/100\n",
            "64/64 [==============================] - 9s 147ms/step - loss: 5.4051e-04\n",
            "Epoch 96/100\n",
            "64/64 [==============================] - 9s 146ms/step - loss: 6.0501e-04\n",
            "Epoch 97/100\n",
            "64/64 [==============================] - 9s 145ms/step - loss: 7.5069e-04\n",
            "Epoch 98/100\n",
            "64/64 [==============================] - 9s 145ms/step - loss: 7.8973e-04\n",
            "Epoch 99/100\n",
            "64/64 [==============================] - 9s 145ms/step - loss: 6.8310e-04\n",
            "Epoch 100/100\n",
            "64/64 [==============================] - 9s 144ms/step - loss: 5.8318e-04\n"
          ],
          "name": "stdout"
        },
        {
          "output_type": "execute_result",
          "data": {
            "text/plain": [
              "<tensorflow.python.keras.callbacks.History at 0x7fd76e343550>"
            ]
          },
          "metadata": {
            "tags": []
          },
          "execution_count": 9
        }
      ]
    },
    {
      "cell_type": "code",
      "metadata": {
        "id": "fT1fnHJqmeSn",
        "colab_type": "code",
        "colab": {
          "base_uri": "https://localhost:8080/",
          "height": 419
        },
        "outputId": "1729b376-e459-4609-e3f9-f51bf37be536"
      },
      "source": [
        "url = 'https://raw.githubusercontent.com/Nagharjun17/abc/master/XLNX_test.csv'\n",
        "dataset_test = pd.read_csv(url)\n",
        "real_stock_price = dataset_test.iloc[:, 1:2].values\n",
        "dataset_test"
      ],
      "execution_count": 10,
      "outputs": [
        {
          "output_type": "execute_result",
          "data": {
            "text/html": [
              "<div>\n",
              "<style scoped>\n",
              "    .dataframe tbody tr th:only-of-type {\n",
              "        vertical-align: middle;\n",
              "    }\n",
              "\n",
              "    .dataframe tbody tr th {\n",
              "        vertical-align: top;\n",
              "    }\n",
              "\n",
              "    .dataframe thead th {\n",
              "        text-align: right;\n",
              "    }\n",
              "</style>\n",
              "<table border=\"1\" class=\"dataframe\">\n",
              "  <thead>\n",
              "    <tr style=\"text-align: right;\">\n",
              "      <th></th>\n",
              "      <th>Date</th>\n",
              "      <th>Open</th>\n",
              "      <th>High</th>\n",
              "      <th>Low</th>\n",
              "      <th>Close</th>\n",
              "      <th>Adj Close</th>\n",
              "      <th>Volume</th>\n",
              "    </tr>\n",
              "  </thead>\n",
              "  <tbody>\n",
              "    <tr>\n",
              "      <th>0</th>\n",
              "      <td>31-05-2018</td>\n",
              "      <td>67.839996</td>\n",
              "      <td>68.760002</td>\n",
              "      <td>67.599998</td>\n",
              "      <td>68.110001</td>\n",
              "      <td>65.984558</td>\n",
              "      <td>4430100</td>\n",
              "    </tr>\n",
              "    <tr>\n",
              "      <th>1</th>\n",
              "      <td>01-06-2018</td>\n",
              "      <td>68.900002</td>\n",
              "      <td>70.739998</td>\n",
              "      <td>68.699997</td>\n",
              "      <td>70.370003</td>\n",
              "      <td>68.174026</td>\n",
              "      <td>3214900</td>\n",
              "    </tr>\n",
              "    <tr>\n",
              "      <th>2</th>\n",
              "      <td>04-06-2018</td>\n",
              "      <td>70.599998</td>\n",
              "      <td>70.809998</td>\n",
              "      <td>69.430000</td>\n",
              "      <td>70.330002</td>\n",
              "      <td>68.135284</td>\n",
              "      <td>1795400</td>\n",
              "    </tr>\n",
              "    <tr>\n",
              "      <th>3</th>\n",
              "      <td>05-06-2018</td>\n",
              "      <td>70.440002</td>\n",
              "      <td>70.830002</td>\n",
              "      <td>70.300003</td>\n",
              "      <td>70.419998</td>\n",
              "      <td>68.222458</td>\n",
              "      <td>1662300</td>\n",
              "    </tr>\n",
              "    <tr>\n",
              "      <th>4</th>\n",
              "      <td>06-06-2018</td>\n",
              "      <td>70.580002</td>\n",
              "      <td>70.820000</td>\n",
              "      <td>69.919998</td>\n",
              "      <td>70.660004</td>\n",
              "      <td>68.454987</td>\n",
              "      <td>2147500</td>\n",
              "    </tr>\n",
              "    <tr>\n",
              "      <th>...</th>\n",
              "      <td>...</td>\n",
              "      <td>...</td>\n",
              "      <td>...</td>\n",
              "      <td>...</td>\n",
              "      <td>...</td>\n",
              "      <td>...</td>\n",
              "      <td>...</td>\n",
              "    </tr>\n",
              "    <tr>\n",
              "      <th>496</th>\n",
              "      <td>20-05-2020</td>\n",
              "      <td>88.070000</td>\n",
              "      <td>89.800003</td>\n",
              "      <td>87.279999</td>\n",
              "      <td>89.519997</td>\n",
              "      <td>89.519997</td>\n",
              "      <td>3066400</td>\n",
              "    </tr>\n",
              "    <tr>\n",
              "      <th>497</th>\n",
              "      <td>21-05-2020</td>\n",
              "      <td>88.709999</td>\n",
              "      <td>89.489998</td>\n",
              "      <td>86.970001</td>\n",
              "      <td>87.239998</td>\n",
              "      <td>87.239998</td>\n",
              "      <td>2463600</td>\n",
              "    </tr>\n",
              "    <tr>\n",
              "      <th>498</th>\n",
              "      <td>22-05-2020</td>\n",
              "      <td>86.949997</td>\n",
              "      <td>86.989998</td>\n",
              "      <td>85.639999</td>\n",
              "      <td>86.589996</td>\n",
              "      <td>86.589996</td>\n",
              "      <td>1903600</td>\n",
              "    </tr>\n",
              "    <tr>\n",
              "      <th>499</th>\n",
              "      <td>26-05-2020</td>\n",
              "      <td>88.000000</td>\n",
              "      <td>89.599998</td>\n",
              "      <td>87.790001</td>\n",
              "      <td>88.330002</td>\n",
              "      <td>88.330002</td>\n",
              "      <td>2486100</td>\n",
              "    </tr>\n",
              "    <tr>\n",
              "      <th>500</th>\n",
              "      <td>27-05-2020</td>\n",
              "      <td>88.129997</td>\n",
              "      <td>91.160004</td>\n",
              "      <td>87.980003</td>\n",
              "      <td>91.040001</td>\n",
              "      <td>91.040001</td>\n",
              "      <td>2640000</td>\n",
              "    </tr>\n",
              "  </tbody>\n",
              "</table>\n",
              "<p>501 rows × 7 columns</p>\n",
              "</div>"
            ],
            "text/plain": [
              "           Date       Open       High        Low      Close  Adj Close   Volume\n",
              "0    31-05-2018  67.839996  68.760002  67.599998  68.110001  65.984558  4430100\n",
              "1    01-06-2018  68.900002  70.739998  68.699997  70.370003  68.174026  3214900\n",
              "2    04-06-2018  70.599998  70.809998  69.430000  70.330002  68.135284  1795400\n",
              "3    05-06-2018  70.440002  70.830002  70.300003  70.419998  68.222458  1662300\n",
              "4    06-06-2018  70.580002  70.820000  69.919998  70.660004  68.454987  2147500\n",
              "..          ...        ...        ...        ...        ...        ...      ...\n",
              "496  20-05-2020  88.070000  89.800003  87.279999  89.519997  89.519997  3066400\n",
              "497  21-05-2020  88.709999  89.489998  86.970001  87.239998  87.239998  2463600\n",
              "498  22-05-2020  86.949997  86.989998  85.639999  86.589996  86.589996  1903600\n",
              "499  26-05-2020  88.000000  89.599998  87.790001  88.330002  88.330002  2486100\n",
              "500  27-05-2020  88.129997  91.160004  87.980003  91.040001  91.040001  2640000\n",
              "\n",
              "[501 rows x 7 columns]"
            ]
          },
          "metadata": {
            "tags": []
          },
          "execution_count": 10
        }
      ]
    },
    {
      "cell_type": "code",
      "metadata": {
        "id": "REPh6hmcrmge",
        "colab_type": "code",
        "colab": {}
      },
      "source": [
        "dataset_total = pd.concat((dataset_train['Open'], dataset_test['Open']), axis = 0)\n",
        "inputs = dataset_total[len(dataset_total) - len(dataset_test) - 60:].values\n",
        "inputs = inputs.reshape(-1,1)\n",
        "inputs = sc.transform(inputs)\n",
        "X_test = []\n",
        "for i in range(60, 561):\n",
        "  X_test.append(inputs[i-60:i, 0])\n",
        "X_test = np.array(X_test)\n",
        "X_test = np.reshape(X_test, (X_test.shape[0], X_test.shape[1], 1))\n",
        "predicted_stock_price = model.predict(X_test)\n",
        "predicted_stock_price = sc.inverse_transform(predicted_stock_price)"
      ],
      "execution_count": 11,
      "outputs": []
    },
    {
      "cell_type": "code",
      "metadata": {
        "id": "_axvDTYjrqEF",
        "colab_type": "code",
        "colab": {
          "base_uri": "https://localhost:8080/",
          "height": 295
        },
        "outputId": "619759ab-85cd-4249-9e0b-59b6780f5280"
      },
      "source": [
        "plt.plot(real_stock_price, color = 'red', label = 'XILINX Stock Price')\n",
        "plt.plot(predicted_stock_price, color = 'blue', label = 'Predicted XILINX Stock Price')\n",
        "plt.title('XILINX Stock Price Prediction')\n",
        "plt.xlabel('Time')\n",
        "plt.ylabel('XILINX Stock Price')\n",
        "plt.legend()\n",
        "plt.show()"
      ],
      "execution_count": 12,
      "outputs": [
        {
          "output_type": "display_data",
          "data": {
            "image/png": "[encoded data removed]",
            "text/plain": [
              "<Figure size 432x288 with 1 Axes>"
            ]
          },
          "metadata": {
            "tags": [],
            "needs_background": "light"
          }
        }
      ]
    },
    {
      "cell_type": "code",
      "metadata": {
        "id": "A4PgovRCr2NW",
        "colab_type": "code",
        "colab": {
          "base_uri": "https://localhost:8080/",
          "height": 34
        },
        "outputId": "6142d78a-3583-4e4f-80df-0cb8d3d45922"
      },
      "source": [
        "explained_variance_score(real_stock_price, predicted_stock_price, multioutput='uniform_average')"
      ],
      "execution_count": 13,
      "outputs": [
        {
          "output_type": "execute_result",
          "data": {
            "text/plain": [
              "0.32376408635848386"
            ]
          },
          "metadata": {
            "tags": []
          },
          "execution_count": 13
        }
      ]
    },
    {
      "cell_type": "code",
      "metadata": {
        "id": "tF5PCdbEpeq8",
        "colab_type": "code",
        "colab": {
          "base_uri": "https://localhost:8080/",
          "height": 34
        },
        "outputId": "fbc1a4e9-be43-4ae2-f60c-cadc64d7d9ea"
      },
      "source": [
        "max_error(real_stock_price, predicted_stock_price)"
      ],
      "execution_count": 14,
      "outputs": [
        {
          "output_type": "execute_result",
          "data": {
            "text/plain": [
              "57.19374089648437"
            ]
          },
          "metadata": {
            "tags": []
          },
          "execution_count": 14
        }
      ]
    },
    {
      "cell_type": "code",
      "metadata": {
        "id": "Bv7Xy-N4rKOn",
        "colab_type": "code",
        "colab": {
          "base_uri": "https://localhost:8080/",
          "height": 34
        },
        "outputId": "9e1233c9-c6fc-41ec-ede6-563c8179b7a5"
      },
      "source": [
        "mean_absolute_error(real_stock_price, predicted_stock_price, multioutput='uniform_average')"
      ],
      "execution_count": 15,
      "outputs": [
        {
          "output_type": "execute_result",
          "data": {
            "text/plain": [
              "15.56570699137662"
            ]
          },
          "metadata": {
            "tags": []
          },
          "execution_count": 15
        }
      ]
    },
    {
      "cell_type": "code",
      "metadata": {
        "id": "Oln1JMtprZVS",
        "colab_type": "code",
        "colab": {
          "base_uri": "https://localhost:8080/",
          "height": 34
        },
        "outputId": "7c58617c-92fe-4a3d-a0b0-8a3badef2f14"
      },
      "source": [
        "mean_squared_error(real_stock_price, predicted_stock_price, multioutput='uniform_average', squared=True)"
      ],
      "execution_count": 16,
      "outputs": [
        {
          "output_type": "execute_result",
          "data": {
            "text/plain": [
              "451.6491447295905"
            ]
          },
          "metadata": {
            "tags": []
          },
          "execution_count": 16
        }
      ]
    },
    {
      "cell_type": "code",
      "metadata": {
        "id": "phPmuRj4rsCO",
        "colab_type": "code",
        "colab": {
          "base_uri": "https://localhost:8080/",
          "height": 34
        },
        "outputId": "26c7432e-08de-42bb-deed-1f4ff98aeb8b"
      },
      "source": [
        "mean_squared_error(real_stock_price, predicted_stock_price, multioutput='uniform_average', squared=False)"
      ],
      "execution_count": 17,
      "outputs": [
        {
          "output_type": "execute_result",
          "data": {
            "text/plain": [
              "21.252038601733965"
            ]
          },
          "metadata": {
            "tags": []
          },
          "execution_count": 17
        }
      ]
    },
    {
      "cell_type": "code",
      "metadata": {
        "id": "gNHrOIQQruj3",
        "colab_type": "code",
        "colab": {
          "base_uri": "https://localhost:8080/",
          "height": 34
        },
        "outputId": "ac94595f-5135-49bc-a238-f76e79d3a325"
      },
      "source": [
        "mean_squared_log_error(real_stock_price, predicted_stock_price, multioutput='uniform_average')"
      ],
      "execution_count": 18,
      "outputs": [
        {
          "output_type": "execute_result",
          "data": {
            "text/plain": [
              "0.04581333443836007"
            ]
          },
          "metadata": {
            "tags": []
          },
          "execution_count": 18
        }
      ]
    },
    {
      "cell_type": "code",
      "metadata": {
        "id": "A06ftRodr1Xe",
        "colab_type": "code",
        "colab": {
          "base_uri": "https://localhost:8080/",
          "height": 34
        },
        "outputId": "f75c29fd-35ab-48de-c846-863d77336e10"
      },
      "source": [
        "median_absolute_error(real_stock_price, predicted_stock_price, multioutput='uniform_average')"
      ],
      "execution_count": 19,
      "outputs": [
        {
          "output_type": "execute_result",
          "data": {
            "text/plain": [
              "10.278785790039066"
            ]
          },
          "metadata": {
            "tags": []
          },
          "execution_count": 19
        }
      ]
    },
    {
      "cell_type": "code",
      "metadata": {
        "id": "nUPa2-Ugr8rr",
        "colab_type": "code",
        "colab": {
          "base_uri": "https://localhost:8080/",
          "height": 34
        },
        "outputId": "84173181-9957-4b56-f510-5aaf45de5cf3"
      },
      "source": [
        "r2_score(real_stock_price, predicted_stock_price, multioutput='uniform_average')"
      ],
      "execution_count": 20,
      "outputs": [
        {
          "output_type": "execute_result",
          "data": {
            "text/plain": [
              "-0.43637107849474677"
            ]
          },
          "metadata": {
            "tags": []
          },
          "execution_count": 20
        }
      ]
    },
    {
      "cell_type": "code",
      "metadata": {
        "id": "94xP1c92sDLf",
        "colab_type": "code",
        "colab": {
          "base_uri": "https://localhost:8080/",
          "height": 34
        },
        "outputId": "59938f64-9aa6-4686-92e3-e34fea6ad9a1"
      },
      "source": [
        "mean_poisson_deviance(real_stock_price, predicted_stock_price)"
      ],
      "execution_count": 21,
      "outputs": [
        {
          "output_type": "execute_result",
          "data": {
            "text/plain": [
              "4.859922377872732"
            ]
          },
          "metadata": {
            "tags": []
          },
          "execution_count": 21
        }
      ]
    },
    {
      "cell_type": "code",
      "metadata": {
        "id": "bGm4wYO9sMgs",
        "colab_type": "code",
        "colab": {
          "base_uri": "https://localhost:8080/",
          "height": 34
        },
        "outputId": "3ae0381d-b2bc-480d-e2d5-d7d3ffe974c3"
      },
      "source": [
        "mean_gamma_deviance(real_stock_price, predicted_stock_price)"
      ],
      "execution_count": 22,
      "outputs": [
        {
          "output_type": "execute_result",
          "data": {
            "text/plain": [
              "0.052797831767696285"
            ]
          },
          "metadata": {
            "tags": []
          },
          "execution_count": 22
        }
      ]
    },
    {
      "cell_type": "code",
      "metadata": {
        "id": "WyTRqyYxsRTz",
        "colab_type": "code",
        "colab": {}
      },
      "source": [
        ""
      ],
      "execution_count": null,
      "outputs": []
    }
  ]
}